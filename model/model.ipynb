{
 "cells": [
  {
   "cell_type": "markdown",
   "metadata": {},
   "source": [
    "### Installing Dependencies"
   ]
  },
  {
   "cell_type": "code",
   "execution_count": 17,
   "metadata": {},
   "outputs": [],
   "source": [
    "# %pip install timm\n",
    "# %pip install onnx"
   ]
  },
  {
   "cell_type": "markdown",
   "metadata": {},
   "source": [
    "TO DO\n",
    "- [X] Train/Test Split\n",
    "- [X] Normalization\n",
    "- [X] Data Augmentation\n",
    "- [ ] Hyperparameter Tuning\n",
    "- [ ] Figure out ONNX Verification, Inference\n",
    "- [ ] Export to TensorFlow.js?"
   ]
  },
  {
   "cell_type": "code",
   "execution_count": 18,
   "metadata": {},
   "outputs": [
    {
     "data": {
      "text/plain": [
       "'\\nOutliers?\\nhttps://kevinmusgrave.github.io/pytorch-metric-learning/\\nhttps://github.com/KevinMusgrave/pytorch-metric-learning/blob/master/examples/README.md\\nhttps://colab.research.google.com/github/KevinMusgrave/pytorch-metric-learning/blob/master/examples/notebooks/SubCenterArcFaceMNIST.ipynb#scrollTo=GJ_L0TrTDnEA\\n---> Get_Outliers()\\n'"
      ]
     },
     "execution_count": 18,
     "metadata": {},
     "output_type": "execute_result"
    }
   ],
   "source": [
    "\"\"\"\n",
    "Outliers?\n",
    "https://kevinmusgrave.github.io/pytorch-metric-learning/\n",
    "https://github.com/KevinMusgrave/pytorch-metric-learning/blob/master/examples/README.md\n",
    "https://colab.research.google.com/github/KevinMusgrave/pytorch-metric-learning/blob/master/examples/notebooks/SubCenterArcFaceMNIST.ipynb#scrollTo=GJ_L0TrTDnEA\n",
    "---> Get_Outliers()\n",
    "\"\"\""
   ]
  },
  {
   "cell_type": "markdown",
   "metadata": {},
   "source": [
    "## Training ConvNext-Atto"
   ]
  },
  {
   "cell_type": "code",
   "execution_count": 19,
   "metadata": {},
   "outputs": [],
   "source": [
    "import numpy as np\n",
    "import torch\n",
    "import torch.nn as nn\n",
    "import torch.optim as optim\n",
    "from torch.optim.lr_scheduler import ReduceLROnPlateau\n",
    "from torch.utils.data import DataLoader\n",
    "from torchvision import datasets\n",
    "from torchvision import transforms\n",
    "from torchsummary import summary\n",
    "import torch.nn.functional as F\n",
    "\n",
    "from torch.utils.tensorboard import SummaryWriter\n",
    "\n",
    "from pytorch_metric_learning import losses, testers\n",
    "from pytorch_metric_learning.utils.accuracy_calculator import AccuracyCalculator\n",
    "\n",
    "import timm\n",
    "\n",
    "import onnx\n",
    "import onnxruntime\n",
    "\n",
    "from PIL import UnidentifiedImageError\n",
    "\n",
    "from pathlib import Path\n",
    "\n",
    "def printg(string): print(\"\\033[92m{}\\033[00m\".format(string))\n",
    "def printr(string): print(\"\\033[91m{}\\033[00m\".format(string))"
   ]
  },
  {
   "cell_type": "code",
   "execution_count": 20,
   "metadata": {},
   "outputs": [],
   "source": [
    "log = False"
   ]
  },
  {
   "cell_type": "code",
   "execution_count": 21,
   "metadata": {},
   "outputs": [
    {
     "name": "stdout",
     "output_type": "stream",
     "text": [
      "\u001b[92mUsing device: cuda\u001b[00m\n"
     ]
    }
   ],
   "source": [
    "if log:\n",
    "    writer = SummaryWriter()\n",
    "\n",
    "batch_size = 64\n",
    "epochs = 500\n",
    "learning_rate = 1e-3\n",
    "loss_lr = 1e-4\n",
    "factor=0.3\n",
    "patience = 10\n",
    "device = torch.device('cuda' if torch.cuda.is_available() else 'cpu')\n",
    "printg(f\"Using device: {device}\")\n",
    "num_classes = 20 # ~100*12\n",
    "embedding_size = 320\n",
    "\n",
    "transform = transforms.Compose([\n",
    "    transforms.Resize((224, 224)),\n",
    "    transforms.RandomHorizontalFlip(),\n",
    "    transforms.ToTensor(),\n",
    "    transforms.Normalize(mean=[0.485, 0.456, 0.406], std=[0.229, 0.224, 0.225])\n",
    "])\n",
    "\n",
    "if log:\n",
    "    writer.add_scalar('Hyperparameters/Batch_size', batch_size, 0)\n",
    "    writer.add_scalar('Hyperparameters/Epochs', epochs, 0)\n",
    "    writer.add_scalar('Hyperparameters/Learning_rate', learning_rate, 0)\n",
    "    writer.add_scalar('Hyperparameters/Loss_lr', loss_lr, 0)\n",
    "    writer.add_scalar('Hyperparameters/Num_classes', num_classes, 0)\n",
    "    writer.add_scalar('Hyperparameters/Embedding_size', embedding_size, 0)"
   ]
  },
  {
   "cell_type": "code",
   "execution_count": 22,
   "metadata": {},
   "outputs": [],
   "source": [
    "# Shouldn't really throw an error, but just in case\n",
    "class RobustImageFolder(datasets.ImageFolder):\n",
    "    def __getitem__(self, index):\n",
    "        path, target = self.samples[index]\n",
    "        try:\n",
    "            sample = self.loader(path)\n",
    "        except UnidentifiedImageError:\n",
    "            print(f\"\\033[91mSkipping Corrupt Image:\\033[0m {Path(path)}\")            \n",
    "            # return None, None\n",
    "            return self.__getitem__(index + 1)\n",
    "        if self.transform is not None:\n",
    "            sample = self.transform(sample)\n",
    "        if self.target_transform is not None:\n",
    "            target = self.target_transform(target)\n",
    "        return sample, target"
   ]
  },
  {
   "cell_type": "code",
   "execution_count": 23,
   "metadata": {},
   "outputs": [],
   "source": [
    "train_dataset = RobustImageFolder('../faces/split/test', transform=transform)\n",
    "train_loader = DataLoader(train_dataset, batch_size=batch_size, shuffle=True)\n",
    "\n",
    "val_dataset = RobustImageFolder('../faces/split/val', transform=transform)\n",
    "val_loader = DataLoader(val_dataset, batch_size=batch_size, shuffle=False)"
   ]
  },
  {
   "cell_type": "code",
   "execution_count": 24,
   "metadata": {},
   "outputs": [],
   "source": [
    "class ConvNeXtArcFace(nn.Module):\n",
    "    def __init__(self, model_name, embedding_size, pretrained=False):\n",
    "        super(ConvNeXtArcFace, self).__init__()\n",
    "        self.convnext = timm.create_model(model_name, pretrained=pretrained)\n",
    "        self.convnext.reset_classifier(num_classes=0, global_pool='avg')\n",
    "      \n",
    "    def forward(self, x):\n",
    "        x = self.convnext.forward_features(x) # \n",
    "        x = F.avg_pool2d(x, 7).flatten(1)\n",
    "        print(\"Embeddings:\", x.shape)\n",
    "        return x"
   ]
  },
  {
   "cell_type": "code",
   "execution_count": 25,
   "metadata": {},
   "outputs": [],
   "source": [
    "model_name = 'convnextv2_atto'\n",
    "model = ConvNeXtArcFace(model_name, embedding_size)"
   ]
  },
  {
   "cell_type": "code",
   "execution_count": null,
   "metadata": {},
   "outputs": [],
   "source": [
    "x = torch.randn(1, 3, 224, 224)\n",
    "model(x)"
   ]
  },
  {
   "cell_type": "code",
   "execution_count": 27,
   "metadata": {},
   "outputs": [],
   "source": [
    "class EarlyStopping:\n",
    "    def __init__(self, patience=patience, verbose=False, delta=0):\n",
    "        self.patience = patience\n",
    "        self.verbose = verbose\n",
    "        self.counter = 0\n",
    "        self.best_score = None\n",
    "        self.early_stop = False\n",
    "        self.val_loss_min = np.Inf\n",
    "        self.delta = delta\n",
    "\n",
    "    def __call__(self, val_loss, model, epoch, optimizer, scheduler, criterion, loss_optimizer, loss_scheduler, running_loss):\n",
    "\n",
    "        score = -val_loss\n",
    "\n",
    "        if self.best_score is None:\n",
    "            self.best_score = score\n",
    "            self.save_checkpoint(val_loss, model, epoch, optimizer, scheduler, criterion, loss_optimizer, loss_scheduler, running_loss)\n",
    "        elif score < self.best_score + self.delta:\n",
    "            self.counter += 1\n",
    "            print(f'EarlyStopping counter: {self.counter} out of {self.patience}')\n",
    "            if self.counter >= self.patience:\n",
    "                self.early_stop = True\n",
    "        else:\n",
    "            self.best_score = score\n",
    "            self.save_checkpoint(val_loss, model, epoch, optimizer, scheduler, criterion, loss_optimizer, loss_scheduler, running_loss)\n",
    "            self.counter = 0\n",
    "\n",
    "    def save_checkpoint(self, val_loss, model, epoch, optimizer, scheduler, criterion, loss_optimizer, loss_scheduler, running_loss):\n",
    "        if self.verbose:\n",
    "            print(f'Validation loss decreased ({self.val_loss_min:.6f} --> {val_loss:.6f}).  Saving model ...')\n",
    "        torch.save({\n",
    "                'epoch': epoch,\n",
    "                'model_state_dict': model.state_dict(),\n",
    "                'optimizer_state_dict': optimizer.state_dict(),\n",
    "                'scheduler_state_dict': scheduler.state_dict(),\n",
    "\n",
    "                'criterion_state_dict': criterion.state_dict(),\n",
    "                'loss_optimizer_state_dict': loss_optimizer.state_dict(),\n",
    "                'loss_scheduler_state_dict': loss_scheduler.state_dict(),\n",
    "                'loss': running_loss,\n",
    "                }, f\"checkpoints/best_{epoch}.pth\")        \n",
    "        self.val_loss_min = val_loss"
   ]
  },
  {
   "cell_type": "code",
   "execution_count": 28,
   "metadata": {},
   "outputs": [],
   "source": [
    "model_name = 'convnextv2_atto'\n",
    "model = ConvNeXtArcFace(model_name, embedding_size)\n",
    "\n",
    "model = model.to(device)\n",
    "optimizer = optim.Adam(model.parameters(), lr=learning_rate)\n",
    "scheduler = ReduceLROnPlateau(optimizer, mode='max', factor=0.3, patience=10, verbose=True)\n",
    "\n",
    "criterion = losses.ArcFaceLoss(num_classes=num_classes, embedding_size=embedding_size, margin=4).to(device)\n",
    "loss_optimizer = optim.Adam(criterion.parameters(), lr=loss_lr)\n",
    "loss_scheduler = ReduceLROnPlateau(loss_optimizer, mode='max', factor=0.3, patience=10, verbose=True)\n",
    "\n",
    "start_epoch = 1\n",
    "\n",
    "def load_checkpoint(filepath, model, optimizer, scheduler, loss_optimizer, loss_scheduler, criterion):\n",
    "    checkpoint = torch.load(filepath)\n",
    "    model.load_state_dict(checkpoint['model_state_dict'])\n",
    "    optimizer.load_state_dict(checkpoint['optimizer_state_dict'])\n",
    "    scheduler.load_state_dict(checkpoint['scheduler_state_dict'])\n",
    "    criterion.load_state_dict(checkpoint['criterion_state_dict'])\n",
    "    loss_optimizer.load_state_dict(checkpoint['loss_optimizer_state_dict'])\n",
    "    loss_scheduler.load_state_dict(checkpoint['loss_scheduler_state_dict'])\n",
    "    epoch = checkpoint['epoch'] + 1\n",
    "    loss = checkpoint['loss']\n",
    "    return model, optimizer, scheduler, loss_optimizer, loss_scheduler, criterion, epoch, loss"
   ]
  },
  {
   "cell_type": "code",
   "execution_count": 29,
   "metadata": {},
   "outputs": [],
   "source": [
    "checkpoint = None\n",
    "if checkpoint:\n",
    "    model, optimizer, scheduler, loss_optimizer, loss_scheduler, criterion, start_epoch, loss = load_checkpoint(\n",
    "        f\"checkpoints/{checkpoint}\", model, optimizer, scheduler, loss_optimizer, loss_scheduler, criterion\n",
    "        )"
   ]
  },
  {
   "cell_type": "code",
   "execution_count": 30,
   "metadata": {},
   "outputs": [],
   "source": [
    "def get_all_embeddings(dataset, model):\n",
    "    tester = testers.BaseTester()\n",
    "    return tester.get_all_embeddings(dataset, model)\n",
    "\n",
    "accuracy_calculator = AccuracyCalculator(include=(\"precision_at_1\",), k=1)"
   ]
  },
  {
   "cell_type": "code",
   "execution_count": 31,
   "metadata": {},
   "outputs": [
    {
     "name": "stdout",
     "output_type": "stream",
     "text": [
      "Embeddings: torch.Size([2, 320])\n",
      "----------------------------------------------------------------\n",
      "        Layer (type)               Output Shape         Param #\n",
      "================================================================\n",
      "            Conv2d-1           [-1, 40, 56, 56]           1,960\n",
      "       LayerNorm2d-2           [-1, 40, 56, 56]              80\n",
      "          Identity-3           [-1, 40, 56, 56]               0\n",
      "            Conv2d-4           [-1, 40, 56, 56]           2,000\n",
      "       LayerNorm2d-5           [-1, 40, 56, 56]              80\n",
      "            Conv2d-6          [-1, 160, 56, 56]           6,560\n",
      "              GELU-7          [-1, 160, 56, 56]               0\n",
      "           Dropout-8          [-1, 160, 56, 56]               0\n",
      "GlobalResponseNorm-9          [-1, 160, 56, 56]             320\n",
      "           Conv2d-10           [-1, 40, 56, 56]           6,440\n",
      "          Dropout-11           [-1, 40, 56, 56]               0\n",
      "GlobalResponseNormMlp-12           [-1, 40, 56, 56]               0\n",
      "         Identity-13           [-1, 40, 56, 56]               0\n",
      "         Identity-14           [-1, 40, 56, 56]               0\n",
      "    ConvNeXtBlock-15           [-1, 40, 56, 56]               0\n",
      "           Conv2d-16           [-1, 40, 56, 56]           2,000\n",
      "      LayerNorm2d-17           [-1, 40, 56, 56]              80\n",
      "           Conv2d-18          [-1, 160, 56, 56]           6,560\n",
      "             GELU-19          [-1, 160, 56, 56]               0\n",
      "          Dropout-20          [-1, 160, 56, 56]               0\n",
      "GlobalResponseNorm-21          [-1, 160, 56, 56]             320\n",
      "           Conv2d-22           [-1, 40, 56, 56]           6,440\n",
      "          Dropout-23           [-1, 40, 56, 56]               0\n",
      "GlobalResponseNormMlp-24           [-1, 40, 56, 56]               0\n",
      "         Identity-25           [-1, 40, 56, 56]               0\n",
      "         Identity-26           [-1, 40, 56, 56]               0\n",
      "    ConvNeXtBlock-27           [-1, 40, 56, 56]               0\n",
      "    ConvNeXtStage-28           [-1, 40, 56, 56]               0\n",
      "      LayerNorm2d-29           [-1, 40, 56, 56]              80\n",
      "           Conv2d-30           [-1, 80, 28, 28]          12,880\n",
      "           Conv2d-31           [-1, 80, 28, 28]           4,000\n",
      "      LayerNorm2d-32           [-1, 80, 28, 28]             160\n",
      "           Conv2d-33          [-1, 320, 28, 28]          25,920\n",
      "             GELU-34          [-1, 320, 28, 28]               0\n",
      "          Dropout-35          [-1, 320, 28, 28]               0\n",
      "GlobalResponseNorm-36          [-1, 320, 28, 28]             640\n",
      "           Conv2d-37           [-1, 80, 28, 28]          25,680\n",
      "          Dropout-38           [-1, 80, 28, 28]               0\n",
      "GlobalResponseNormMlp-39           [-1, 80, 28, 28]               0\n",
      "         Identity-40           [-1, 80, 28, 28]               0\n",
      "         Identity-41           [-1, 80, 28, 28]               0\n",
      "    ConvNeXtBlock-42           [-1, 80, 28, 28]               0\n",
      "           Conv2d-43           [-1, 80, 28, 28]           4,000\n",
      "      LayerNorm2d-44           [-1, 80, 28, 28]             160\n",
      "           Conv2d-45          [-1, 320, 28, 28]          25,920\n",
      "             GELU-46          [-1, 320, 28, 28]               0\n",
      "          Dropout-47          [-1, 320, 28, 28]               0\n",
      "GlobalResponseNorm-48          [-1, 320, 28, 28]             640\n",
      "           Conv2d-49           [-1, 80, 28, 28]          25,680\n",
      "          Dropout-50           [-1, 80, 28, 28]               0\n",
      "GlobalResponseNormMlp-51           [-1, 80, 28, 28]               0\n",
      "         Identity-52           [-1, 80, 28, 28]               0\n",
      "         Identity-53           [-1, 80, 28, 28]               0\n",
      "    ConvNeXtBlock-54           [-1, 80, 28, 28]               0\n",
      "    ConvNeXtStage-55           [-1, 80, 28, 28]               0\n",
      "      LayerNorm2d-56           [-1, 80, 28, 28]             160\n",
      "           Conv2d-57          [-1, 160, 14, 14]          51,360\n",
      "           Conv2d-58          [-1, 160, 14, 14]           8,000\n",
      "      LayerNorm2d-59          [-1, 160, 14, 14]             320\n",
      "           Conv2d-60          [-1, 640, 14, 14]         103,040\n",
      "             GELU-61          [-1, 640, 14, 14]               0\n",
      "          Dropout-62          [-1, 640, 14, 14]               0\n",
      "GlobalResponseNorm-63          [-1, 640, 14, 14]           1,280\n",
      "           Conv2d-64          [-1, 160, 14, 14]         102,560\n",
      "          Dropout-65          [-1, 160, 14, 14]               0\n",
      "GlobalResponseNormMlp-66          [-1, 160, 14, 14]               0\n",
      "         Identity-67          [-1, 160, 14, 14]               0\n",
      "         Identity-68          [-1, 160, 14, 14]               0\n",
      "    ConvNeXtBlock-69          [-1, 160, 14, 14]               0\n",
      "           Conv2d-70          [-1, 160, 14, 14]           8,000\n",
      "      LayerNorm2d-71          [-1, 160, 14, 14]             320\n",
      "           Conv2d-72          [-1, 640, 14, 14]         103,040\n",
      "             GELU-73          [-1, 640, 14, 14]               0\n",
      "          Dropout-74          [-1, 640, 14, 14]               0\n",
      "GlobalResponseNorm-75          [-1, 640, 14, 14]           1,280\n",
      "           Conv2d-76          [-1, 160, 14, 14]         102,560\n",
      "          Dropout-77          [-1, 160, 14, 14]               0\n",
      "GlobalResponseNormMlp-78          [-1, 160, 14, 14]               0\n",
      "         Identity-79          [-1, 160, 14, 14]               0\n",
      "         Identity-80          [-1, 160, 14, 14]               0\n",
      "    ConvNeXtBlock-81          [-1, 160, 14, 14]               0\n",
      "           Conv2d-82          [-1, 160, 14, 14]           8,000\n",
      "      LayerNorm2d-83          [-1, 160, 14, 14]             320\n",
      "           Conv2d-84          [-1, 640, 14, 14]         103,040\n",
      "             GELU-85          [-1, 640, 14, 14]               0\n",
      "          Dropout-86          [-1, 640, 14, 14]               0\n",
      "GlobalResponseNorm-87          [-1, 640, 14, 14]           1,280\n",
      "           Conv2d-88          [-1, 160, 14, 14]         102,560\n",
      "          Dropout-89          [-1, 160, 14, 14]               0\n",
      "GlobalResponseNormMlp-90          [-1, 160, 14, 14]               0\n",
      "         Identity-91          [-1, 160, 14, 14]               0\n",
      "         Identity-92          [-1, 160, 14, 14]               0\n",
      "    ConvNeXtBlock-93          [-1, 160, 14, 14]               0\n",
      "           Conv2d-94          [-1, 160, 14, 14]           8,000\n",
      "      LayerNorm2d-95          [-1, 160, 14, 14]             320\n",
      "           Conv2d-96          [-1, 640, 14, 14]         103,040\n",
      "             GELU-97          [-1, 640, 14, 14]               0\n",
      "          Dropout-98          [-1, 640, 14, 14]               0\n",
      "GlobalResponseNorm-99          [-1, 640, 14, 14]           1,280\n",
      "          Conv2d-100          [-1, 160, 14, 14]         102,560\n",
      "         Dropout-101          [-1, 160, 14, 14]               0\n",
      "GlobalResponseNormMlp-102          [-1, 160, 14, 14]               0\n",
      "        Identity-103          [-1, 160, 14, 14]               0\n",
      "        Identity-104          [-1, 160, 14, 14]               0\n",
      "   ConvNeXtBlock-105          [-1, 160, 14, 14]               0\n",
      "          Conv2d-106          [-1, 160, 14, 14]           8,000\n",
      "     LayerNorm2d-107          [-1, 160, 14, 14]             320\n",
      "          Conv2d-108          [-1, 640, 14, 14]         103,040\n",
      "            GELU-109          [-1, 640, 14, 14]               0\n",
      "         Dropout-110          [-1, 640, 14, 14]               0\n",
      "GlobalResponseNorm-111          [-1, 640, 14, 14]           1,280\n",
      "          Conv2d-112          [-1, 160, 14, 14]         102,560\n",
      "         Dropout-113          [-1, 160, 14, 14]               0\n",
      "GlobalResponseNormMlp-114          [-1, 160, 14, 14]               0\n",
      "        Identity-115          [-1, 160, 14, 14]               0\n",
      "        Identity-116          [-1, 160, 14, 14]               0\n",
      "   ConvNeXtBlock-117          [-1, 160, 14, 14]               0\n",
      "          Conv2d-118          [-1, 160, 14, 14]           8,000\n",
      "     LayerNorm2d-119          [-1, 160, 14, 14]             320\n",
      "          Conv2d-120          [-1, 640, 14, 14]         103,040\n",
      "            GELU-121          [-1, 640, 14, 14]               0\n",
      "         Dropout-122          [-1, 640, 14, 14]               0\n",
      "GlobalResponseNorm-123          [-1, 640, 14, 14]           1,280\n",
      "          Conv2d-124          [-1, 160, 14, 14]         102,560\n",
      "         Dropout-125          [-1, 160, 14, 14]               0\n",
      "GlobalResponseNormMlp-126          [-1, 160, 14, 14]               0\n",
      "        Identity-127          [-1, 160, 14, 14]               0\n",
      "        Identity-128          [-1, 160, 14, 14]               0\n",
      "   ConvNeXtBlock-129          [-1, 160, 14, 14]               0\n",
      "   ConvNeXtStage-130          [-1, 160, 14, 14]               0\n",
      "     LayerNorm2d-131          [-1, 160, 14, 14]             320\n",
      "          Conv2d-132            [-1, 320, 7, 7]         205,120\n",
      "          Conv2d-133            [-1, 320, 7, 7]          16,000\n",
      "     LayerNorm2d-134            [-1, 320, 7, 7]             640\n",
      "          Conv2d-135           [-1, 1280, 7, 7]         410,880\n",
      "            GELU-136           [-1, 1280, 7, 7]               0\n",
      "         Dropout-137           [-1, 1280, 7, 7]               0\n",
      "GlobalResponseNorm-138           [-1, 1280, 7, 7]           2,560\n",
      "          Conv2d-139            [-1, 320, 7, 7]         409,920\n",
      "         Dropout-140            [-1, 320, 7, 7]               0\n",
      "GlobalResponseNormMlp-141            [-1, 320, 7, 7]               0\n",
      "        Identity-142            [-1, 320, 7, 7]               0\n",
      "        Identity-143            [-1, 320, 7, 7]               0\n",
      "   ConvNeXtBlock-144            [-1, 320, 7, 7]               0\n",
      "          Conv2d-145            [-1, 320, 7, 7]          16,000\n",
      "     LayerNorm2d-146            [-1, 320, 7, 7]             640\n",
      "          Conv2d-147           [-1, 1280, 7, 7]         410,880\n",
      "            GELU-148           [-1, 1280, 7, 7]               0\n",
      "         Dropout-149           [-1, 1280, 7, 7]               0\n",
      "GlobalResponseNorm-150           [-1, 1280, 7, 7]           2,560\n",
      "          Conv2d-151            [-1, 320, 7, 7]         409,920\n",
      "         Dropout-152            [-1, 320, 7, 7]               0\n",
      "GlobalResponseNormMlp-153            [-1, 320, 7, 7]               0\n",
      "        Identity-154            [-1, 320, 7, 7]               0\n",
      "        Identity-155            [-1, 320, 7, 7]               0\n",
      "   ConvNeXtBlock-156            [-1, 320, 7, 7]               0\n",
      "   ConvNeXtStage-157            [-1, 320, 7, 7]               0\n",
      "        Identity-158            [-1, 320, 7, 7]               0\n",
      "================================================================\n",
      "Total params: 3,386,760\n",
      "Trainable params: 3,386,760\n",
      "Non-trainable params: 0\n",
      "----------------------------------------------------------------\n",
      "Input size (MB): 0.57\n",
      "Forward/backward pass size (MB): 116.40\n",
      "Params size (MB): 12.92\n",
      "Estimated Total Size (MB): 129.89\n",
      "----------------------------------------------------------------\n"
     ]
    }
   ],
   "source": [
    "summary(model, (3, 224, 224))"
   ]
  },
  {
   "cell_type": "code",
   "execution_count": null,
   "metadata": {},
   "outputs": [],
   "source": [
    "early_stopping = EarlyStopping()\n",
    "ckpt = [1, 3, 5, 10, 15, 25, 40, 60, 80, 90, 110, 130, 150, 175]\n",
    "for epoch in range(start_epoch, epochs+1):\n",
    "    model.train()\n",
    "    running_loss = 0.0\n",
    "    for batch_idx, (inputs, targets) in enumerate(train_loader):\n",
    "        print(f\"Epoch: {epoch}, Batch: {batch_idx + 1}/{len(train_loader)}\")\n",
    "        inputs = inputs.to(device)        \n",
    "        targets = targets.to(device)\n",
    "        inputs = inputs.float()\n",
    "\n",
    "        optimizer.zero_grad()\n",
    "        loss_optimizer.zero_grad()\n",
    "\n",
    "        embeddings = model(inputs)\n",
    "        # print(\"Embeddings:\", embeddings.shape)\n",
    "        loss = criterion(embeddings, targets)\n",
    "        if log:    \n",
    "            writer.add_scalar('Loss/train', loss.item(), (epoch-1) * len(train_loader) + batch_idx + 1)  \n",
    "          \n",
    "        loss.backward()\n",
    "        optimizer.step()        \n",
    "        loss_optimizer.step()\n",
    "        \n",
    "        running_loss += loss.item()\n",
    "\n",
    "\n",
    "    train_embeddings, train_labels = get_all_embeddings(train_dataset, model)\n",
    "    val_embeddings, val_labels = get_all_embeddings(val_dataset, model)\n",
    "\n",
    "    train_labels = train_labels.squeeze(1)\n",
    "    val_labels = val_labels.squeeze(1)\n",
    "\n",
    "    accuracies = accuracy_calculator.get_accuracy(\n",
    "            train_embeddings, train_labels, train_embeddings, train_labels, False\n",
    "        )\n",
    "    training_accuracy = accuracies['precision_at_1']\n",
    "    if log:\n",
    "        writer.add_scalar('Accuracy/Training', training_accuracy, epoch)\n",
    "    printg(f\"Train Set Accuracy = {training_accuracy}\")\n",
    "\n",
    "    accuracies = accuracy_calculator.get_accuracy(\n",
    "            val_embeddings, val_labels, train_embeddings, train_labels, False\n",
    "        )\n",
    "    validation_accuracy = accuracies['precision_at_1']\n",
    "    if log:\n",
    "        writer.add_scalar('Accuracy/Validation', validation_accuracy, epoch)\n",
    "    printg(f\"Test Set Accuracy = {validation_accuracy}\")\n",
    "\n",
    "    scheduler.step(validation_accuracy)\n",
    "    loss_scheduler.step(validation_accuracy)\n",
    "\n",
    "    if (epoch) in ckpt:\n",
    "        torch.save({\n",
    "                    'epoch': epoch,\n",
    "                    'model_state_dict': model.state_dict(),\n",
    "                    'optimizer_state_dict': optimizer.state_dict(),\n",
    "                    'scheduler_state_dict': scheduler.state_dict(),\n",
    "                    \n",
    "                    'criterion_state_dict': criterion.state_dict(),\n",
    "                    'loss_optimizer_state_dict': loss_optimizer.state_dict(),\n",
    "                    'loss_scheduler_state_dict': loss_scheduler.state_dict(),\n",
    "                    'loss': running_loss,\n",
    "                    }, f\"checkpoints/epoch_{epoch}.pth\")\n",
    "        if log:\n",
    "            writer.flush()\n",
    "\n",
    "\n",
    "    printr(f\"Epoch [{epoch}/{epochs}], Loss: {loss.item()}\")\n",
    "\n",
    "    early_stopping(-validation_accuracy, model, epoch, optimizer, scheduler, criterion, loss_optimizer, loss_scheduler, running_loss)\n",
    "    if early_stopping.early_stop:\n",
    "        print(\"Early Stopping\")\n",
    "        break\n",
    "\n",
    "if log:\n",
    "    writer.close()"
   ]
  },
  {
   "cell_type": "code",
   "execution_count": null,
   "metadata": {},
   "outputs": [],
   "source": [
    "torch.save(model.state_dict(), 'convnext_atto_arcface.pth')"
   ]
  },
  {
   "cell_type": "markdown",
   "metadata": {},
   "source": [
    "### Testing Inference"
   ]
  },
  {
   "cell_type": "code",
   "execution_count": null,
   "metadata": {},
   "outputs": [
    {
     "data": {
      "text/plain": [
       "<All keys matched successfully>"
      ]
     },
     "execution_count": 14,
     "metadata": {},
     "output_type": "execute_result"
    }
   ],
   "source": [
    "model = ConvNeXtArcFace(model_name, embedding_size)\n",
    "model = model.to(device)\n",
    "model.load_state_dict(torch.load('convnext_atto_arcface.pth'))"
   ]
  },
  {
   "cell_type": "code",
   "execution_count": null,
   "metadata": {},
   "outputs": [],
   "source": [
    "test_dataset = RobustImageFolder('../faces/split/test', transform=transform)\n",
    "test_loader = DataLoader(train_dataset, batch_size=32, shuffle=True)"
   ]
  },
  {
   "cell_type": "code",
   "execution_count": null,
   "metadata": {},
   "outputs": [],
   "source": [
    "def get_all_embeddings(dataset, model):\n",
    "    tester = testers.BaseTester()\n",
    "    return tester.get_all_embeddings(dataset, model)\n",
    "\n",
    "accuracy_calculator = AccuracyCalculator(include=(\"precision_at_1\",), k=1)"
   ]
  },
  {
   "cell_type": "code",
   "execution_count": null,
   "metadata": {},
   "outputs": [],
   "source": [
    "train_embeddings, train_labels = get_all_embeddings(train_dataset, model)\n",
    "test_embeddings, test_labels = get_all_embeddings(test_dataset, model)\n",
    "\n",
    "train_labels = train_labels.squeeze(1)\n",
    "test_labels = test_labels.squeeze(1)"
   ]
  },
  {
   "cell_type": "code",
   "execution_count": null,
   "metadata": {},
   "outputs": [],
   "source": [
    "print(\"Computing accuracy...\")\n",
    "# accuracies = accuracy_calculator.get_accuracy(\n",
    "        # test_embeddings, test_labels, train_embeddings, train_labels, False\n",
    "    # )\n",
    "# print(\"Test set accuracy = {}\".format(accuracies[\"precision_at_1\"]))"
   ]
  },
  {
   "cell_type": "markdown",
   "metadata": {},
   "source": [
    "### Saving Model"
   ]
  },
  {
   "cell_type": "code",
   "execution_count": null,
   "metadata": {},
   "outputs": [
    {
     "name": "stdout",
     "output_type": "stream",
     "text": [
      "Features: torch.Size([1, 320])\n",
      "Features: torch.Size([1, 320])\n"
     ]
    }
   ],
   "source": [
    "model.to(device)\n",
    "dummy_input = torch.randn(1, 3, 224, 224, requires_grad=True).to(device)\n",
    "dummy_output = model(dummy_input).to(device)\n",
    "torch.onnx.export(model, dummy_input, \"convnext_atto_arcface.onnx\", export_params=True)"
   ]
  },
  {
   "cell_type": "code",
   "execution_count": null,
   "metadata": {},
   "outputs": [],
   "source": [
    "# onnx_model = onnx.load(\"convnext_atto_arcface.onnx\")\n",
    "# onnx.checker.check_model(onnx_model) # "
   ]
  },
  {
   "cell_type": "code",
   "execution_count": null,
   "metadata": {},
   "outputs": [],
   "source": [
    "# ort_session = onnxruntime.InferenceSession(\"convnext_atto_arcface.onnx\", providers=[\"CUDAExecutionProvider\"])\n",
    "\n",
    "# def to_numpy(tensor):\n",
    "#     return tensor.detach().cpu().numpy() if tensor.requires_grad else tensor.cpu().numpy()\n",
    "\n",
    "# ort_inputs = {ort_session.get_inputs()[0].name: to_numpy(dummy_input)}\n",
    "# ort_outs = ort_session.run(None, ort_inputs)\n",
    "\n",
    "# # np.testing.assert_allclose(to_numpy(dummy_output), ort_outs[0], rtol=1e-03, atol=1e-05)\n",
    "# # print(\"Exported model has been tested with ONNXRuntime, and the result looks good!\")"
   ]
  }
 ],
 "metadata": {
  "kernelspec": {
   "display_name": "base",
   "language": "python",
   "name": "python3"
  },
  "language_info": {
   "codemirror_mode": {
    "name": "ipython",
    "version": 3
   },
   "file_extension": ".py",
   "mimetype": "text/x-python",
   "name": "python",
   "nbconvert_exporter": "python",
   "pygments_lexer": "ipython3",
   "version": "3.10.13"
  }
 },
 "nbformat": 4,
 "nbformat_minor": 2
}
