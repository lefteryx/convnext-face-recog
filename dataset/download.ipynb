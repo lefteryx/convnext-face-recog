{
 "cells": [
  {
   "cell_type": "code",
   "execution_count": 16,
   "metadata": {},
   "outputs": [],
   "source": [
    "import gdown\n",
    "import zipfile\n",
    "import os"
   ]
  },
  {
   "cell_type": "code",
   "execution_count": 17,
   "metadata": {},
   "outputs": [],
   "source": [
    "def get_download_link(URL):\n",
    "    file_id = URL.split('/')[-2]\n",
    "    download_link = f\"https://drive.google.com/uc?id={file_id}\"\n",
    "    return download_link"
   ]
  },
  {
   "cell_type": "code",
   "execution_count": 18,
   "metadata": {},
   "outputs": [],
   "source": [
    "def download_dataset(URL, i):\n",
    "    URL = get_download_link(URL)\n",
    "    gdown.download(URL, output=f'data-{i}.zip', quiet=False)\n",
    "    \n",
    "    with zipfile.ZipFile(f'data-{i}.zip', 'r') as zip_ref:\n",
    "        zip_ref.extractall('.')\n",
    "    \n",
    "    os.remove(f'data-{i}.zip')"
   ]
  },
  {
   "cell_type": "code",
   "execution_count": 19,
   "metadata": {},
   "outputs": [],
   "source": [
    "URLs = [\"https://drive.google.com/file/d/0B5G8pYUQMNZnWHJpX0t0XzhNSGM/view?usp=drive_link&resourcekey=0-KhDR2QuKg1Rry5Q3wusJKg\", # part1.zip\n",
    "        \"https://drive.google.com/file/d/0B5G8pYUQMNZnSjhCbWNlb1BXZWs/view?usp=drive_link&resourcekey=0-yVzlvxG007A4R6h7WPWKGw\", # part2.zip\n",
    "        \"https://drive.google.com/file/d/0B5G8pYUQMNZnazFWT2R2b1N5M1k/view?usp=drive_link&resourcekey=0-6IKcx-bXog0QdllPTFGpkA\", # part3.zip\n",
    "        \"https://drive.google.com/file/d/0B5G8pYUQMNZncjl3ZXVrSGxrY28/view?usp=drive_link&resourcekey=0-pNqvGDu19eByEARmrHg1_w\", # part4.zip\n",
    "        \"https://drive.google.com/file/d/0B5G8pYUQMNZnUW1BZ2ZJWFNkZlU/view?usp=drive_link&resourcekey=0-RCGP25I14Q1vpx2482FpNg\", # part5.zip\n",
    "        \"https://drive.google.com/file/d/0B5G8pYUQMNZnQjJReE00UjhMZFE/view?usp=drive_link&resourcekey=0-PlvVeH22o4SmMTabCv8ouQ\", # part6.zip\n",
    "        \"https://drive.google.com/file/d/0B5G8pYUQMNZna1ZYeW9YRHpNY1k/view?usp=drive_link&resourcekey=0-Sqzrvbu-KM5hplLzIZ4LmA\", # part7.zip\n",
    "        \"https://drive.google.com/file/d/0B5G8pYUQMNZnN0tPSi16RzYtMGM/view?usp=drive_link&resourcekey=0-D8q6Gbcfox2OvloC6WQ1mA\", # part8.zip\n",
    "        \"https://drive.google.com/file/d/0B5G8pYUQMNZnUUQxUVNDN19nQ0E/view?usp=drive_link&resourcekey=0-lA7VEZ0WAx7xuwmnFmu_jQ\", # part9.zip\n",
    "        \"https://drive.google.com/file/d/0B5G8pYUQMNZncVVsOTBkNnJITHc/view?usp=drive_link&resourcekey=0-vHjrzFNxBLNiB2sceV5Jog\", # part10.zip\n",
    "        \"https://drive.google.com/file/d/0B5G8pYUQMNZnREFUS1FGZktUejg/view?usp=drive_link&resourcekey=0-RpkScc6MNRhEN_lQHb39ZQ\", # part11.zip\n",
    "        \"https://drive.google.com/file/d/0B5G8pYUQMNZnbjlVSVh6V21xcE0/view?usp=drive_link&resourcekey=0-dnDcZ5A9CrXfgLuv1c0sJQ\"] # part12.zip"
   ]
  },
  {
   "cell_type": "code",
   "execution_count": 20,
   "metadata": {},
   "outputs": [],
   "source": [
    "for i, URL in enumerate(URLs):\n",
    "    download_dataset(URL, i+1)\n",
    "    print(\"\\033[92mDownloaded data-{i+1}.zip\\033[0m\")\n",
    "\n",
    "print(\"\\033[92mAll files downloaded successfully!\\033[0m\")"
   ]
  }
 ],
 "metadata": {
  "kernelspec": {
   "display_name": "base",
   "language": "python",
   "name": "python3"
  },
  "language_info": {
   "codemirror_mode": {
    "name": "ipython",
    "version": 3
   },
   "file_extension": ".py",
   "mimetype": "text/x-python",
   "name": "python",
   "nbconvert_exporter": "python",
   "pygments_lexer": "ipython3",
   "version": "3.10.13"
  }
 },
 "nbformat": 4,
 "nbformat_minor": 2
}
